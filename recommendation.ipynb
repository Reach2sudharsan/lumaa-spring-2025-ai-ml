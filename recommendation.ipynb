{
 "cells": [
  {
   "cell_type": "markdown",
   "metadata": {},
   "source": [
    "## **Implementation**"
   ]
  },
  {
   "cell_type": "code",
   "execution_count": null,
   "metadata": {},
   "outputs": [],
   "source": [
    "# Import all necessary libraries\n",
    "import pandas as pd\n",
    "import numpy as np\n",
    "from sklearn.feature_extraction.text import TfidfVectorizer\n",
    "from sklearn.metrics.pairwise import cosine_similarity"
   ]
  },
  {
   "cell_type": "code",
   "execution_count": null,
   "metadata": {},
   "outputs": [],
   "source": [
    "# Dataset: The 500 best movies - IMDB\n",
    "\n",
    "# Link: https://www.kaggle.com/datasets/moazeldsokyx/the-500-best-movies-imdb\n",
    "\n",
    "'''\n",
    "Description: \n",
    "The dataset contains information on IMDb's top movies, including titles,\n",
    "ratings, runtimes, genres, Metascores, plots, directors, stars, votes, gross \n",
    "earnings, and IMDb links.\n",
    "'''\n",
    "\n",
    "df = pd.read_csv(\"Top_Movies.csv\")\n",
    "df.head()"
   ]
  },
  {
   "cell_type": "code",
   "execution_count": null,
   "metadata": {},
   "outputs": [],
   "source": [
    "# Remove duplicate movies based on 'Movie Name' to ensure unique recommendations\n",
    "df = df.drop_duplicates(subset=\"Movie Name\", keep=\"first\").reset_index(drop=True)"
   ]
  },
  {
   "cell_type": "code",
   "execution_count": null,
   "metadata": {},
   "outputs": [],
   "source": [
    "# Combine 'Plot' and 'Genre' into a single text feature  \n",
    "# Repeating 'Genre' gives it more weight in the vectorization process  \n",
    "df[\"combined_text\"] = (df[\"Genre\"] + \" | \") * 2 + df[\"Plot\"]  \n",
    "\n",
    "# Initialize a TF-IDF Vectorizer with stop words removed  \n",
    "vectorizer = TfidfVectorizer(stop_words=\"english\")  \n",
    "\n",
    "# Transform the combined text into TF-IDF vectors for numerical representation  \n",
    "tfidf_matrix = vectorizer.fit_transform(df[\"combined_text\"])  "
   ]
  },
  {
   "cell_type": "code",
   "execution_count": null,
   "metadata": {},
   "outputs": [],
   "source": [
    "def recommend_movies(user_query, top_N):\n",
    "    # Transform user query into TF-IDF vector\n",
    "    user_vector = vectorizer.transform([user_query])\n",
    "\n",
    "    # Compute cosine similarity between user input and dataset\n",
    "    similarity_scores = cosine_similarity(user_vector, tfidf_matrix).flatten()\n",
    "\n",
    "    # Get indices of top N matches\n",
    "    top_indices = similarity_scores.argsort()[::-1][:top_N]\n",
    "\n",
    "    # Display results\n",
    "    recommendation_df = df.iloc[top_indices][['Movie Name', 'Genre', 'Plot']]\n",
    "\n",
    "    # Reset index to ensure proper indexing after filtering duplicates\n",
    "    recommendation_df = recommendation_df.reset_index(drop=True)\n",
    "\n",
    "    return recommendation_df"
   ]
  },
  {
   "cell_type": "code",
   "execution_count": null,
   "metadata": {},
   "outputs": [],
   "source": [
    "# Generate movie recommendations based on the user's input  \n",
    "user_input = \"I love action-packed thrillers with a Sci-Fi theme.\"  \n",
    "recommendation_df = recommend_movies(user_input, 5)  "
   ]
  },
  {
   "cell_type": "code",
   "execution_count": null,
   "metadata": {},
   "outputs": [],
   "source": [
    "# Display the recommended movies based on the user's input  \n",
    "recommendation_df  "
   ]
  },
  {
   "cell_type": "markdown",
   "metadata": {},
   "source": [
    "## **Salary Expectation**\n",
    "\n",
    "For this entry-level internship position, my expected salary is \\$1,000 - \\$2,000 per month.\n",
    "I am open to discussing compensation based on the scope of work, responsibilities, and learning opportunities."
   ]
  }
 ],
 "metadata": {
  "kernelspec": {
   "display_name": "sgcvtr",
   "language": "python",
   "name": "python3"
  },
  "language_info": {
   "codemirror_mode": {
    "name": "ipython",
    "version": 3
   },
   "file_extension": ".py",
   "mimetype": "text/x-python",
   "name": "python",
   "nbconvert_exporter": "python",
   "pygments_lexer": "ipython3",
   "version": "3.13.1"
  }
 },
 "nbformat": 4,
 "nbformat_minor": 2
}
